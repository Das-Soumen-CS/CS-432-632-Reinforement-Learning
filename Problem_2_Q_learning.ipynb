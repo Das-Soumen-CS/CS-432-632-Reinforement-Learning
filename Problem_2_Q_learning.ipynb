{
 "cells": [
  {
   "cell_type": "code",
   "execution_count": 74,
   "id": "856c7918-20ad-4310-b35c-a76b930ab247",
   "metadata": {},
   "outputs": [],
   "source": [
    "import numpy as np\n",
    "import pandas as pd\n",
    "import matplotlib.pyplot as plt\n",
    "import networkx as nx\n",
    "import random\n",
    "import warnings\n",
    "warnings.filterwarnings('ignore')"
   ]
  },
  {
   "cell_type": "code",
   "execution_count": 75,
   "id": "07752524-fe17-455b-9ce7-1e0a37544bb9",
   "metadata": {},
   "outputs": [],
   "source": [
    "edges=[(0,4),(4,0),(0,3),(3,0),(1,2),(2,1),(1,4),(4,1),(1,8),(8,1),(1,9),(9,1),(2,3),(3,2),(2,6),(6,2),\n",
    "        (1,5),(5,1),(2,5),(5,2),(5,6),(6,5),(7,8),(8,7),(7,5),(5,7),(8,9),(9,8),(8,10),(10,8),(9,10),(10,9)]"
   ]
  },
  {
   "cell_type": "code",
   "execution_count": 76,
   "id": "4066c80e-b981-4d61-916a-ab8dc8c07709",
   "metadata": {},
   "outputs": [
    {
     "data": {
      "image/png": "[encoded data removed]",
      "text/plain": [
       "<Figure size 640x480 with 1 Axes>"
      ]
     },
     "metadata": {},
     "output_type": "display_data"
    }
   ],
   "source": [
    "G=nx.Graph()\n",
    "G.add_edges_from(edges)\n",
    "pos=nx.spring_layout(G)\n",
    "nx.draw_networkx_nodes(G,pos)\n",
    "nx.draw_networkx_edges(G,pos)\n",
    "nx.draw_networkx_labels(G,pos)\n",
    "plt.show()"
   ]
  },
  {
   "cell_type": "code",
   "execution_count": 77,
   "id": "a1e7638c-0a4a-4976-a0f0-c34292f40723",
   "metadata": {},
   "outputs": [
    {
     "name": "stdout",
     "output_type": "stream",
     "text": [
      "[[0. 0. 0. 0. 0. 0. 0. 0. 0. 0. 0.]\n",
      " [0. 0. 0. 0. 0. 0. 0. 0. 0. 0. 0.]\n",
      " [0. 0. 0. 0. 0. 0. 0. 0. 0. 0. 0.]\n",
      " [0. 0. 0. 0. 0. 0. 0. 0. 0. 0. 0.]\n",
      " [0. 0. 0. 0. 0. 0. 0. 0. 0. 0. 0.]\n",
      " [0. 0. 0. 0. 0. 0. 0. 0. 0. 0. 0.]\n",
      " [0. 0. 0. 0. 0. 0. 0. 0. 0. 0. 0.]\n",
      " [0. 0. 0. 0. 0. 0. 0. 0. 0. 0. 0.]\n",
      " [0. 0. 0. 0. 0. 0. 0. 0. 0. 0. 0.]\n",
      " [0. 0. 0. 0. 0. 0. 0. 0. 0. 0. 0.]\n",
      " [0. 0. 0. 0. 0. 0. 0. 0. 0. 0. 0.]]\n"
     ]
    }
   ],
   "source": [
    "Reward=np.matrix(np.zeros(shape=(11,11)))  # No of nodes=11(node 0 to node 10) ,Matrix size =11*11\n",
    "print(Reward)"
   ]
  },
  {
   "cell_type": "code",
   "execution_count": 78,
   "id": "4a44fe68-abe5-4293-8de2-91eb3da07861",
   "metadata": {},
   "outputs": [
    {
     "name": "stdout",
     "output_type": "stream",
     "text": [
      "[[  0.   0.   0.   0.   0.   0.   0.   0.   0.   0.   0.]\n",
      " [  0.   0.   0.   0.   0.   0.   0.   0.   0.   0.   0.]\n",
      " [  0.   0.   0.   0.   0.   0.   0.   0.   0.   0.   0.]\n",
      " [  0.   0.   0.   0.   0.   0.   0.   0.   0.   0.   0.]\n",
      " [  0.   0.   0.   0.   0.   0.   0.   0.   0.   0.   0.]\n",
      " [  0.   0.   0.   0.   0.   0.   0.   0.   0.   0.   0.]\n",
      " [  0.   0.   0.   0.   0.   0.   0.   0.   0.   0.   0.]\n",
      " [  0.   0.   0.   0.   0.   0.   0.   0.   0.   0.   0.]\n",
      " [  0.   0.   0.   0.   0.   0.   0.   0.   0.   0. 100.]\n",
      " [  0.   0.   0.   0.   0.   0.   0.   0.   0.   0. 100.]\n",
      " [  0.   0.   0.   0.   0.   0.   0.   0.   0.   0.   0.]]\n"
     ]
    }
   ],
   "source": [
    "for i in G[10]:              # Notice only we can reach node 10 from node 8 and node 9\n",
    "    Reward[i,10]=100         # Set all rewards to 0 except the actions arriving at node 10.\n",
    "print(Reward)"
   ]
  },
  {
   "cell_type": "code",
   "execution_count": 79,
   "id": "18a48eb9-16b3-4d6e-bf25-c702607daeb8",
   "metadata": {},
   "outputs": [
    {
     "name": "stdout",
     "output_type": "stream",
     "text": [
      "[[0. 0. 0. 0. 0. 0. 0. 0. 0. 0. 0.]\n",
      " [0. 0. 0. 0. 0. 0. 0. 0. 0. 0. 0.]\n",
      " [0. 0. 0. 0. 0. 0. 0. 0. 0. 0. 0.]\n",
      " [0. 0. 0. 0. 0. 0. 0. 0. 0. 0. 0.]\n",
      " [0. 0. 0. 0. 0. 0. 0. 0. 0. 0. 0.]\n",
      " [0. 0. 0. 0. 0. 0. 0. 0. 0. 0. 0.]\n",
      " [0. 0. 0. 0. 0. 0. 0. 0. 0. 0. 0.]\n",
      " [0. 0. 0. 0. 0. 0. 0. 0. 0. 0. 0.]\n",
      " [0. 0. 0. 0. 0. 0. 0. 0. 0. 0. 0.]\n",
      " [0. 0. 0. 0. 0. 0. 0. 0. 0. 0. 0.]\n",
      " [0. 0. 0. 0. 0. 0. 0. 0. 0. 0. 0.]]\n"
     ]
    }
   ],
   "source": [
    "Q_Table=np.matrix(np.zeros(shape=(11,11)))  # initially Q_Table is empty\n",
    "print(Q_Table)"
   ]
  },
  {
   "cell_type": "code",
   "execution_count": 80,
   "id": "40e5032c-06fe-4545-89a0-6d89a61df7b1",
   "metadata": {},
   "outputs": [],
   "source": [
    "Q_Table-=100  #To eliminate impossible actions, their Q-values are set to -100,\n",
    "              #it is not possible to go directly from 2 to 10. Therefore its Q-value is set as -100\n",
    "              "
   ]
  },
  {
   "cell_type": "code",
   "execution_count": 81,
   "id": "426c5af0-8e50-4a9d-9f12-29b58f8aecd0",
   "metadata": {},
   "outputs": [
    {
     "name": "stdout",
     "output_type": "stream",
     "text": [
      "[[-100. -100. -100.    0.    0. -100. -100. -100. -100. -100. -100.]\n",
      " [-100. -100.    0. -100.    0.    0. -100. -100.    0.    0. -100.]\n",
      " [-100.    0. -100.    0. -100.    0.    0. -100. -100. -100. -100.]\n",
      " [   0. -100.    0. -100. -100. -100. -100. -100. -100. -100. -100.]\n",
      " [   0.    0. -100. -100. -100. -100. -100. -100. -100. -100. -100.]\n",
      " [-100.    0.    0. -100. -100. -100.    0.    0. -100. -100. -100.]\n",
      " [-100. -100.    0. -100. -100.    0. -100. -100. -100. -100. -100.]\n",
      " [-100. -100. -100. -100. -100.    0. -100. -100.    0. -100. -100.]\n",
      " [-100.    0. -100. -100. -100. -100. -100.    0. -100.    0.    0.]\n",
      " [-100.    0. -100. -100. -100. -100. -100. -100.    0. -100.    0.]\n",
      " [-100. -100. -100. -100. -100. -100. -100. -100.    0.    0. -100.]]\n"
     ]
    }
   ],
   "source": [
    "for node in G.nodes:\n",
    "    for i in G[node]:\n",
    "        Q_Table[node,i]=0\n",
    "        Q_Table[i,node]=0\n",
    "print(Q_Table)"
   ]
  },
  {
   "cell_type": "code",
   "execution_count": 82,
   "id": "63b92daa-0802-4986-8572-b6351844d6d3",
   "metadata": {},
   "outputs": [
    {
     "name": "stdout",
     "output_type": "stream",
     "text": [
      "[[  0.   0.   0.   0.   0.   0.   0.   0.   0.   0.   0.]\n",
      " [  0.   0.   0.   0.   0.   0.   0.   0.   0.   0.   0.]\n",
      " [  0.   0.   0.   0.   0.   0.   0.   0.   0.   0.   0.]\n",
      " [  0.   0.   0.   0.   0.   0.   0.   0.   0.   0.   0.]\n",
      " [  0.   0.   0.   0.   0.   0.   0.   0.   0.   0.   0.]\n",
      " [  0.   0.   0.   0.   0.   0.   0.   0.   0.   0.   0.]\n",
      " [  0.   0.   0.   0.   0.   0.   0.   0.   0.   0.   0.]\n",
      " [  0.   0.   0.   0.   0.   0.   0.   0.   0.   0.   0.]\n",
      " [  0.   0.   0.   0.   0.   0.   0.   0.   0.   0. 100.]\n",
      " [  0.   0.   0.   0.   0.   0.   0.   0.   0.   0. 100.]\n",
      " [  0.   0.   0.   0.   0.   0.   0.   0.   0.   0.   0.]]\n"
     ]
    }
   ],
   "source": [
    "pd.DataFrame(Reward)\n",
    "print(Reward)"
   ]
  },
  {
   "cell_type": "code",
   "execution_count": 83,
   "id": "ca51c56f-dab4-40ee-9112-c2bf019039b7",
   "metadata": {},
   "outputs": [
    {
     "name": "stdout",
     "output_type": "stream",
     "text": [
      "[[-100. -100. -100.    0.    0. -100. -100. -100. -100. -100. -100.]\n",
      " [-100. -100.    0. -100.    0.    0. -100. -100.    0.    0. -100.]\n",
      " [-100.    0. -100.    0. -100.    0.    0. -100. -100. -100. -100.]\n",
      " [   0. -100.    0. -100. -100. -100. -100. -100. -100. -100. -100.]\n",
      " [   0.    0. -100. -100. -100. -100. -100. -100. -100. -100. -100.]\n",
      " [-100.    0.    0. -100. -100. -100.    0.    0. -100. -100. -100.]\n",
      " [-100. -100.    0. -100. -100.    0. -100. -100. -100. -100. -100.]\n",
      " [-100. -100. -100. -100. -100.    0. -100. -100.    0. -100. -100.]\n",
      " [-100.    0. -100. -100. -100. -100. -100.    0. -100.    0.    0.]\n",
      " [-100.    0. -100. -100. -100. -100. -100. -100.    0. -100.    0.]\n",
      " [-100. -100. -100. -100. -100. -100. -100. -100.    0.    0. -100.]]\n"
     ]
    }
   ],
   "source": [
    "pd.DataFrame(Q_Table)\n",
    "print(Q_Table)"
   ]
  },
  {
   "cell_type": "code",
   "execution_count": 84,
   "id": "385f42ac-39e5-477b-af6f-690c206d4c87",
   "metadata": {},
   "outputs": [],
   "source": [
    "# define a function which takes a starting node and returns the next node. \n",
    "#It also accepts an exploration rate(epsilon) for random exploration. \n",
    "#Otherwise, it chooses an action according to the highest Q value of the possible actions.\n",
    "\n",
    "def next_node_num(source_node,epsilon):\n",
    "    random_val=random.uniform(0,1)\n",
    "    if random_val<epsilon:\n",
    "        sample=G[source_node]\n",
    "    else:\n",
    "        sample=np.where(Q_Table[source_node,]==np.max(Q_Table[source_node,]))[1]\n",
    "    next_node=int(np.random.choice(sample,1))\n",
    "    return next_node"
   ]
  },
  {
   "cell_type": "code",
   "execution_count": 85,
   "id": "c44e2ef6-968e-4e50-9d48-8f0ab8804010",
   "metadata": {},
   "outputs": [],
   "source": [
    "# update Q_table\n",
    "\n",
    "def update_Q_Table(node_1,node_2,learning_rate,discount):\n",
    "    max_index=np.where(Q_Table[node_2,]==np.max(Q_Table[node_2,]))[1]\n",
    "    if max_index.shape[0]>1:\n",
    "        max_index=int(np.random.choice(max_index,size=1))\n",
    "    else:\n",
    "        max_index=int(max_index)\n",
    "    max_value=Q_Table[node_2,max_index]\n",
    "    Q_Table[node_1,node_2]=int((1-learning_rate)* Q_Table[node_1,node_2]+learning_rate*(Reward[node_1,node_2]+discount*max_value))"
   ]
  },
  {
   "cell_type": "code",
   "execution_count": 86,
   "id": "6c839e96-48f4-4e8e-8145-4e4f4f3fa5c8",
   "metadata": {},
   "outputs": [],
   "source": [
    "def learning(epsilon,learning_rate,discount):\n",
    "    for i in range(5000):\n",
    "        source_node=np.random.randint(0,11)\n",
    "        next_node=next_node_num(source_node,epsilon)\n",
    "        update_Q_Table(source_node,next_node,learning_rate,discount)\n",
    "learning(0.5,0.5,0.5)"
   ]
  },
  {
   "cell_type": "code",
   "execution_count": 87,
   "id": "901e0ce3-fe81-4311-acc6-ab61f4700fa1",
   "metadata": {},
   "outputs": [
    {
     "data": {
      "text/html": [
       "<div>\n",
       "<style scoped>\n",
       "    .dataframe tbody tr th:only-of-type {\n",
       "        vertical-align: middle;\n",
       "    }\n",
       "\n",
       "    .dataframe tbody tr th {\n",
       "        vertical-align: top;\n",
       "    }\n",
       "\n",
       "    .dataframe thead th {\n",
       "        text-align: right;\n",
       "    }\n",
       "</style>\n",
       "<table border=\"1\" class=\"dataframe\">\n",
       "  <thead>\n",
       "    <tr style=\"text-align: right;\">\n",
       "      <th></th>\n",
       "      <th>0</th>\n",
       "      <th>1</th>\n",
       "      <th>2</th>\n",
       "      <th>3</th>\n",
       "      <th>4</th>\n",
       "      <th>5</th>\n",
       "      <th>6</th>\n",
       "      <th>7</th>\n",
       "      <th>8</th>\n",
       "      <th>9</th>\n",
       "      <th>10</th>\n",
       "    </tr>\n",
       "  </thead>\n",
       "  <tbody>\n",
       "    <tr>\n",
       "      <th>0</th>\n",
       "      <td>-100.0</td>\n",
       "      <td>-100.0</td>\n",
       "      <td>-100.0</td>\n",
       "      <td>6.0</td>\n",
       "      <td>14.0</td>\n",
       "      <td>-100.0</td>\n",
       "      <td>-100.0</td>\n",
       "      <td>-100.0</td>\n",
       "      <td>-100.0</td>\n",
       "      <td>-100.0</td>\n",
       "      <td>-100.0</td>\n",
       "    </tr>\n",
       "    <tr>\n",
       "      <th>1</th>\n",
       "      <td>-100.0</td>\n",
       "      <td>-100.0</td>\n",
       "      <td>14.0</td>\n",
       "      <td>-100.0</td>\n",
       "      <td>14.0</td>\n",
       "      <td>14.0</td>\n",
       "      <td>-100.0</td>\n",
       "      <td>-100.0</td>\n",
       "      <td>64.0</td>\n",
       "      <td>64.0</td>\n",
       "      <td>-100.0</td>\n",
       "    </tr>\n",
       "    <tr>\n",
       "      <th>2</th>\n",
       "      <td>-100.0</td>\n",
       "      <td>31.0</td>\n",
       "      <td>-100.0</td>\n",
       "      <td>6.0</td>\n",
       "      <td>-100.0</td>\n",
       "      <td>14.0</td>\n",
       "      <td>6.0</td>\n",
       "      <td>-100.0</td>\n",
       "      <td>-100.0</td>\n",
       "      <td>-100.0</td>\n",
       "      <td>-100.0</td>\n",
       "    </tr>\n",
       "    <tr>\n",
       "      <th>3</th>\n",
       "      <td>6.0</td>\n",
       "      <td>-100.0</td>\n",
       "      <td>14.0</td>\n",
       "      <td>-100.0</td>\n",
       "      <td>-100.0</td>\n",
       "      <td>-100.0</td>\n",
       "      <td>-100.0</td>\n",
       "      <td>-100.0</td>\n",
       "      <td>-100.0</td>\n",
       "      <td>-100.0</td>\n",
       "      <td>-100.0</td>\n",
       "    </tr>\n",
       "    <tr>\n",
       "      <th>4</th>\n",
       "      <td>6.0</td>\n",
       "      <td>31.0</td>\n",
       "      <td>-100.0</td>\n",
       "      <td>-100.0</td>\n",
       "      <td>-100.0</td>\n",
       "      <td>-100.0</td>\n",
       "      <td>-100.0</td>\n",
       "      <td>-100.0</td>\n",
       "      <td>-100.0</td>\n",
       "      <td>-100.0</td>\n",
       "      <td>-100.0</td>\n",
       "    </tr>\n",
       "    <tr>\n",
       "      <th>5</th>\n",
       "      <td>-100.0</td>\n",
       "      <td>31.0</td>\n",
       "      <td>14.0</td>\n",
       "      <td>-100.0</td>\n",
       "      <td>-100.0</td>\n",
       "      <td>-100.0</td>\n",
       "      <td>6.0</td>\n",
       "      <td>31.0</td>\n",
       "      <td>-100.0</td>\n",
       "      <td>-100.0</td>\n",
       "      <td>-100.0</td>\n",
       "    </tr>\n",
       "    <tr>\n",
       "      <th>6</th>\n",
       "      <td>-100.0</td>\n",
       "      <td>-100.0</td>\n",
       "      <td>14.0</td>\n",
       "      <td>-100.0</td>\n",
       "      <td>-100.0</td>\n",
       "      <td>14.0</td>\n",
       "      <td>-100.0</td>\n",
       "      <td>-100.0</td>\n",
       "      <td>-100.0</td>\n",
       "      <td>-100.0</td>\n",
       "      <td>-100.0</td>\n",
       "    </tr>\n",
       "    <tr>\n",
       "      <th>7</th>\n",
       "      <td>-100.0</td>\n",
       "      <td>-100.0</td>\n",
       "      <td>-100.0</td>\n",
       "      <td>-100.0</td>\n",
       "      <td>-100.0</td>\n",
       "      <td>14.0</td>\n",
       "      <td>-100.0</td>\n",
       "      <td>-100.0</td>\n",
       "      <td>64.0</td>\n",
       "      <td>-100.0</td>\n",
       "      <td>-100.0</td>\n",
       "    </tr>\n",
       "    <tr>\n",
       "      <th>8</th>\n",
       "      <td>-100.0</td>\n",
       "      <td>31.0</td>\n",
       "      <td>-100.0</td>\n",
       "      <td>-100.0</td>\n",
       "      <td>-100.0</td>\n",
       "      <td>-100.0</td>\n",
       "      <td>-100.0</td>\n",
       "      <td>31.0</td>\n",
       "      <td>-100.0</td>\n",
       "      <td>64.0</td>\n",
       "      <td>131.0</td>\n",
       "    </tr>\n",
       "    <tr>\n",
       "      <th>9</th>\n",
       "      <td>-100.0</td>\n",
       "      <td>31.0</td>\n",
       "      <td>-100.0</td>\n",
       "      <td>-100.0</td>\n",
       "      <td>-100.0</td>\n",
       "      <td>-100.0</td>\n",
       "      <td>-100.0</td>\n",
       "      <td>-100.0</td>\n",
       "      <td>64.0</td>\n",
       "      <td>-100.0</td>\n",
       "      <td>131.0</td>\n",
       "    </tr>\n",
       "    <tr>\n",
       "      <th>10</th>\n",
       "      <td>-100.0</td>\n",
       "      <td>-100.0</td>\n",
       "      <td>-100.0</td>\n",
       "      <td>-100.0</td>\n",
       "      <td>-100.0</td>\n",
       "      <td>-100.0</td>\n",
       "      <td>-100.0</td>\n",
       "      <td>-100.0</td>\n",
       "      <td>64.0</td>\n",
       "      <td>64.0</td>\n",
       "      <td>-100.0</td>\n",
       "    </tr>\n",
       "  </tbody>\n",
       "</table>\n",
       "</div>"
      ],
      "text/plain": [
       "       0      1      2      3      4      5      6      7      8      9   \\\n",
       "0  -100.0 -100.0 -100.0    6.0   14.0 -100.0 -100.0 -100.0 -100.0 -100.0   \n",
       "1  -100.0 -100.0   14.0 -100.0   14.0   14.0 -100.0 -100.0   64.0   64.0   \n",
       "2  -100.0   31.0 -100.0    6.0 -100.0   14.0    6.0 -100.0 -100.0 -100.0   \n",
       "3     6.0 -100.0   14.0 -100.0 -100.0 -100.0 -100.0 -100.0 -100.0 -100.0   \n",
       "4     6.0   31.0 -100.0 -100.0 -100.0 -100.0 -100.0 -100.0 -100.0 -100.0   \n",
       "5  -100.0   31.0   14.0 -100.0 -100.0 -100.0    6.0   31.0 -100.0 -100.0   \n",
       "6  -100.0 -100.0   14.0 -100.0 -100.0   14.0 -100.0 -100.0 -100.0 -100.0   \n",
       "7  -100.0 -100.0 -100.0 -100.0 -100.0   14.0 -100.0 -100.0   64.0 -100.0   \n",
       "8  -100.0   31.0 -100.0 -100.0 -100.0 -100.0 -100.0   31.0 -100.0   64.0   \n",
       "9  -100.0   31.0 -100.0 -100.0 -100.0 -100.0 -100.0 -100.0   64.0 -100.0   \n",
       "10 -100.0 -100.0 -100.0 -100.0 -100.0 -100.0 -100.0 -100.0   64.0   64.0   \n",
       "\n",
       "       10  \n",
       "0  -100.0  \n",
       "1  -100.0  \n",
       "2  -100.0  \n",
       "3  -100.0  \n",
       "4  -100.0  \n",
       "5  -100.0  \n",
       "6  -100.0  \n",
       "7  -100.0  \n",
       "8   131.0  \n",
       "9   131.0  \n",
       "10 -100.0  "
      ]
     },
     "execution_count": 87,
     "metadata": {},
     "output_type": "execute_result"
    }
   ],
   "source": [
    "pd.DataFrame(Q_Table)"
   ]
  },
  {
   "cell_type": "code",
   "execution_count": 88,
   "id": "45f702bd-b490-48ff-8389-0249ea893b9b",
   "metadata": {},
   "outputs": [],
   "source": [
    "def find_shortest_path(source,destination):\n",
    "    path=[source]\n",
    "    next_node=np.argmax(Q_Table[source,])\n",
    "    path.append(next_node)\n",
    "    while next_node!=destination:\n",
    "        next_node=np.argmax(Q_Table[next_node,])\n",
    "        path.append(next_node)\n",
    "    return path"
   ]
  },
  {
   "cell_type": "code",
   "execution_count": 89,
   "id": "3d5b9028-e494-403a-b872-04639875f0f7",
   "metadata": {},
   "outputs": [
    {
     "data": {
      "text/plain": [
       "[0, 4, 1, 8, 10]"
      ]
     },
     "execution_count": 89,
     "metadata": {},
     "output_type": "execute_result"
    }
   ],
   "source": [
    "find_shortest_path(0,10)"
   ]
  },
  {
   "cell_type": "code",
   "execution_count": 90,
   "id": "139c8170-d75d-4a28-95a2-db27a171d4c1",
   "metadata": {},
   "outputs": [
    {
     "data": {
      "text/plain": [
       "[5, 1, 8, 10]"
      ]
     },
     "execution_count": 90,
     "metadata": {},
     "output_type": "execute_result"
    }
   ],
   "source": [
    "find_shortest_path(5,10)"
   ]
  },
  {
   "cell_type": "code",
   "execution_count": 91,
   "id": "b1e11c9b-ce7b-497f-805f-886db41f32bf",
   "metadata": {},
   "outputs": [
    {
     "data": {
      "text/plain": [
       "[1, 8, 10]"
      ]
     },
     "execution_count": 91,
     "metadata": {},
     "output_type": "execute_result"
    }
   ],
   "source": [
    "find_shortest_path(1,10)"
   ]
  },
  {
   "cell_type": "code",
   "execution_count": null,
   "id": "e8415315-bd21-4aaf-af78-dea665c4426a",
   "metadata": {},
   "outputs": [],
   "source": []
  }
 ],
 "metadata": {
  "kernelspec": {
   "display_name": "Python 3 (ipykernel)",
   "language": "python",
   "name": "python3"
  },
  "language_info": {
   "codemirror_mode": {
    "name": "ipython",
    "version": 3
   },
   "file_extension": ".py",
   "mimetype": "text/x-python",
   "name": "python",
   "nbconvert_exporter": "python",
   "pygments_lexer": "ipython3",
   "version": "3.12.0"
  }
 },
 "nbformat": 4,
 "nbformat_minor": 5
}
