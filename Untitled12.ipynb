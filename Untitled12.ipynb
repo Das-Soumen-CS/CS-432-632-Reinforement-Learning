{
 "cells": [
  {
   "cell_type": "code",
   "execution_count": 65,
   "id": "8d51b98a-946b-4a02-b1db-4c7d794a3ad1",
   "metadata": {},
   "outputs": [
    {
     "name": "stdout",
     "output_type": "stream",
     "text": [
      "[[1 2 3]\n",
      " [4 5 6]]\n",
      "[1 2 3]\n",
      "[4 5 6]\n"
     ]
    }
   ],
   "source": [
    "import numpy as np\n",
    "\n",
    "arr = np.array([[1, 2, 3], [4, 5, 6]])\n",
    "print(arr)\n",
    "for x in range(0,len(arr)):\n",
    "    if(x==2):\n",
    "        arr[x]==5\n",
    "        #print(arr[x])\n",
    "       \n",
    "for x in range(0,len(arr)):\n",
    "    print(arr[x])"
   ]
  },
  {
   "cell_type": "code",
   "execution_count": 66,
   "id": "fcc1003e-6e2d-430a-82f6-8abe21df9eec",
   "metadata": {},
   "outputs": [
    {
     "name": "stdout",
     "output_type": "stream",
     "text": [
      "[[1 2 3]\n",
      " [4 5 6]]\n",
      "[1 4]\n",
      "[2 5]\n",
      "[3 6]\n",
      "[1 2 3]\n",
      "[4 5 6]\n"
     ]
    }
   ],
   "source": [
    "import numpy as np\n",
    "\n",
    "arr = np.array([[1, 2, 3], [4, 5, 6]])\n",
    "print(arr)\n",
    "\n",
    "for col in range(arr.shape[1]):\n",
    "    print(arr[:, col])\n",
    "    \n",
    "for row in range(arr.shape[0]):\n",
    "    print(arr[row])"
   ]
  },
  {
   "cell_type": "code",
   "execution_count": 67,
   "id": "512c2877-08bc-4f0f-b1ee-12af35c91131",
   "metadata": {},
   "outputs": [
    {
     "name": "stdout",
     "output_type": "stream",
     "text": [
      "[1 4]\n",
      "[2 5]\n",
      "[3 6]\n"
     ]
    }
   ],
   "source": [
    "for col in arr.T:\n",
    "    print(col)"
   ]
  },
  {
   "cell_type": "code",
   "execution_count": 86,
   "id": "a345bb73-1613-49cf-be62-c05fa3a4755e",
   "metadata": {},
   "outputs": [
    {
     "name": "stdout",
     "output_type": "stream",
     "text": [
      "[[1 2 3]\n",
      " [4 5 6]]\n",
      "[1 2 3]\n",
      "1\n",
      "2\n",
      "3\n"
     ]
    }
   ],
   "source": [
    "arr = np.array([[[1, 2, 3], [4, 5, 6]]])\n",
    "for row in arr:\n",
    "    print(row)\n",
    "   \n",
    "for row in arr:\n",
    "    print(row[0])\n",
    "    for col in (row[0]):\n",
    "        print(col)\n",
    "    break"
   ]
  },
  {
   "cell_type": "code",
   "execution_count": 69,
   "id": "828d81ee-8f53-4f22-9098-c2d81c0c304c",
   "metadata": {},
   "outputs": [
    {
     "name": "stdout",
     "output_type": "stream",
     "text": [
      "1\n",
      "2\n",
      "3\n",
      "4\n",
      "5\n",
      "6\n"
     ]
    }
   ],
   "source": [
    "for row in arr:\n",
    "    for col in row:\n",
    "       print(col)"
   ]
  },
  {
   "cell_type": "code",
   "execution_count": 94,
   "id": "87c023f9-7659-4713-bf56-ddb6d06c35b5",
   "metadata": {},
   "outputs": [
    {
     "name": "stdout",
     "output_type": "stream",
     "text": [
      "The original matrix is :\n",
      " [[1 2 3]\n",
      " [4 5 6]]\n",
      "The modified matrix is:\n",
      " [[ 1  2  3]\n",
      " [12  5  6]]\n"
     ]
    }
   ],
   "source": [
    "matA = np.array([[1, 2, 3],\n",
    "          [4, 5, 6]])\n",
    "\n",
    "print(\"The original matrix is :\\n\",matA)\n",
    "for i in range(len(matA)):\n",
    "    for j in range(len(matA[i])):\n",
    "        if matA[i][j]== 4:\n",
    "            matA[i][j] *= 3\n",
    "print(\"The modified matrix is:\\n\",matA)"
   ]
  },
  {
   "cell_type": "code",
   "execution_count": 95,
   "id": "666b7145-0921-4c4e-8583-29c6adcff872",
   "metadata": {},
   "outputs": [
    {
     "name": "stdout",
     "output_type": "stream",
     "text": [
      "The original list : ['a', 'b', 'c', 'd']\n",
      "list after prefix addition : ['gfga', 'gfgb', 'gfgc', 'gfgd']\n",
      "list after suffix addition : ['agfg', 'bgfg', 'cgfg', 'dgfg']\n"
     ]
    }
   ],
   "source": [
    "#Using itertools.starmap()\n",
    "import itertools\n",
    " \n",
    "#initializing list\n",
    "test_list = ['a', 'b', 'c', 'd']\n",
    " \n",
    "#printing original list\n",
    "print(\"The original list :\", test_list)\n",
    " \n",
    "#initializing append_str\n",
    "append_str = 'gfg'\n",
    " \n",
    "#Append suffix / prefix to strings in list\n",
    "pre_res = list(itertools.starmap(lambda s: append_str + s, test_list))\n",
    "suf_res = list(itertools.starmap(lambda s: s + append_str, test_list))\n",
    " \n",
    "#Printing result\n",
    "print(\"list after prefix addition :\", pre_res)\n",
    "print(\"list after suffix addition :\", suf_res)"
   ]
  },
  {
   "cell_type": "code",
   "execution_count": null,
   "id": "95477775-3991-4028-992b-c0fca42cca29",
   "metadata": {},
   "outputs": [],
   "source": []
  }
 ],
 "metadata": {
  "kernelspec": {
   "display_name": "Python 3 (ipykernel)",
   "language": "python",
   "name": "python3"
  },
  "language_info": {
   "codemirror_mode": {
    "name": "ipython",
    "version": 3
   },
   "file_extension": ".py",
   "mimetype": "text/x-python",
   "name": "python",
   "nbconvert_exporter": "python",
   "pygments_lexer": "ipython3",
   "version": "3.11.5"
  }
 },
 "nbformat": 4,
 "nbformat_minor": 5
}
